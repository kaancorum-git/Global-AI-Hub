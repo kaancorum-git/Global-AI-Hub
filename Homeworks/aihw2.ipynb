{
 "cells": [
  {
   "cell_type": "code",
   "execution_count": 21,
   "metadata": {},
   "outputs": [
    {
     "name": "stdout",
     "output_type": "stream",
     "text": [
      "Enter usernmae: root\n",
      "Enter password: 1234\n",
      "Succesful\n"
     ]
    }
   ],
   "source": [
    "username=[\"root\",\"kaanc\",\"admin\"]\n",
    "password=[\"1234\",\"kncrm\",\"admin123\"]\n",
    "\n",
    "username2=input(\"Enter usernmae: \")\n",
    "password2=input(\"Enter password: \")\n",
    "temp=0\n",
    "for i in range(len(username)):\n",
    "    if username[i]==username2 and password[i]==password2:\n",
    "        print(\"Succesful\")\n",
    "        temp+=1\n",
    "\n",
    "if temp!=1:\n",
    "    print(\"Wrong\")"
   ]
  },
  {
   "cell_type": "code",
   "execution_count": 22,
   "metadata": {},
   "outputs": [
    {
     "name": "stdout",
     "output_type": "stream",
     "text": [
      "Enter username: admin\n",
      "Enter password: admin123\n",
      "Succesful\n"
     ]
    }
   ],
   "source": [
    "values = {\"username\":[\"root\",\"kaanc\",\"admin\"],\n",
    "         \"password\": [\"1234\",\"kncrm\",\"admin123\"]\n",
    "         }\n",
    "\n",
    "username3=input(\"Enter username: \")\n",
    "password3=input(\"Enter password: \")\n",
    "counter=0\n",
    "for i in range(len(values[\"username\"])):\n",
    "    if values[\"username\"][i]==username3 and values[\"password\"][i]==password3:\n",
    "        counter+=1\n",
    "        print(\"Succesful\")\n",
    "if counter!=1:\n",
    "    print(\"Wrong\")\n",
    "        "
   ]
  },
  {
   "cell_type": "code",
   "execution_count": null,
   "metadata": {},
   "outputs": [],
   "source": []
  }
 ],
 "metadata": {
  "kernelspec": {
   "display_name": "Python 3",
   "language": "python",
   "name": "python3"
  },
  "language_info": {
   "codemirror_mode": {
    "name": "ipython",
    "version": 3
   },
   "file_extension": ".py",
   "mimetype": "text/x-python",
   "name": "python",
   "nbconvert_exporter": "python",
   "pygments_lexer": "ipython3",
   "version": "3.7.6"
  }
 },
 "nbformat": 4,
 "nbformat_minor": 4
}
