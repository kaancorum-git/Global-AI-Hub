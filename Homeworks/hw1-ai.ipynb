{
 "cells": [
  {
   "cell_type": "code",
   "execution_count": 1,
   "metadata": {},
   "outputs": [
    {
     "name": "stdout",
     "output_type": "stream",
     "text": [
      "[1, 1, 2, 5215, 2, 241, 3]\n"
     ]
    }
   ],
   "source": [
    "array=[2,241,3,5215,1,1,2]\n",
    "\n",
    "if len(array)%2==0:\n",
    "\n",
    "\n",
    "    array2=array[0:int(len(array)/2)]\n",
    "    array3=array[int(len(array)/2):]\n",
    "    array=array3+array2\n",
    "    print(array)\n",
    "else:\n",
    "    array2=array[0:int(len(array)/2)]\n",
    "    array3=array[int(len(array)/2)+1:]\n",
    "    newarray=array3\n",
    "    newarray.append(array[(len(array)//2)])\n",
    "    newarray+=array2\n",
    "    print(newarray)"
   ]
  },
  {
   "cell_type": "code",
   "execution_count": 2,
   "metadata": {},
   "outputs": [
    {
     "name": "stdout",
     "output_type": "stream",
     "text": [
      "Enter a integer: 2\n",
      "0\n",
      "2\n"
     ]
    }
   ],
   "source": [
    "n=int(input(\"Enter a integer: \"))\n",
    "for i in range(n+1):\n",
    "    if i%2==0:\n",
    "        print(i)"
   ]
  },
  {
   "cell_type": "code",
   "execution_count": null,
   "metadata": {},
   "outputs": [],
   "source": []
  }
 ],
 "metadata": {
  "kernelspec": {
   "display_name": "Python 3",
   "language": "python",
   "name": "python3"
  },
  "language_info": {
   "codemirror_mode": {
    "name": "ipython",
    "version": 3
   },
   "file_extension": ".py",
   "mimetype": "text/x-python",
   "name": "python",
   "nbconvert_exporter": "python",
   "pygments_lexer": "ipython3",
   "version": "3.7.6"
  }
 },
 "nbformat": 4,
 "nbformat_minor": 4
}
