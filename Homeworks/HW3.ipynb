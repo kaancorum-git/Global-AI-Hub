{
 "cells": [
  {
   "cell_type": "code",
   "execution_count": 1,
   "metadata": {},
   "outputs": [],
   "source": [
    "def findingprimes(a):\n",
    "    primes=[2]\n",
    "    if a<=1:\n",
    "        print(\"Must be higher than 1.\")\n",
    "    \n",
    "   \n",
    "  \n",
    "    for num in range(2,a):\n",
    "        counter=0\n",
    "        for i in primes:\n",
    "            \n",
    "            if (num % i) == 0:  \n",
    "                counter+=1\n",
    "                 \n",
    "           \n",
    "        if counter==0:\n",
    "            primes.append(num)\n",
    "         \n",
    "    print(primes)"
   ]
  },
  {
   "cell_type": "code",
   "execution_count": 3,
   "metadata": {},
   "outputs": [
    {
     "name": "stdout",
     "output_type": "stream",
     "text": [
      "[2, 3, 5, 7, 11, 13, 17, 19, 23, 29, 31, 37, 41, 43, 47, 53, 59, 61, 67, 71, 73, 79, 83, 89, 97]\n"
     ]
    }
   ],
   "source": [
    "findingprimes(100)"
   ]
  },
  {
   "cell_type": "code",
   "execution_count": null,
   "metadata": {},
   "outputs": [],
   "source": []
  }
 ],
 "metadata": {
  "kernelspec": {
   "display_name": "Python 3",
   "language": "python",
   "name": "python3"
  },
  "language_info": {
   "codemirror_mode": {
    "name": "ipython",
    "version": 3
   },
   "file_extension": ".py",
   "mimetype": "text/x-python",
   "name": "python",
   "nbconvert_exporter": "python",
   "pygments_lexer": "ipython3",
   "version": "3.7.6"
  }
 },
 "nbformat": 4,
 "nbformat_minor": 4
}
